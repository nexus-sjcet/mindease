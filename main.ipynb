{
 "cells": [
  {
   "cell_type": "code",
   "execution_count": 23,
   "id": "5c8fd189-3291-4361-8f27-2f660e00505b",
   "metadata": {},
   "outputs": [],
   "source": [
    "# from langchain.chat_models import ChatOpenAI\n",
    "from langchain_openai import ChatOpenAI\n",
    "from kor import create_extraction_chain, Object, Text, Option, Selection"
   ]
  },
  {
   "cell_type": "code",
   "execution_count": 50,
   "id": "586e3aa7",
   "metadata": {},
   "outputs": [],
   "source": [
    "from dotenv import load_dotenv\n",
    "import os\n",
    "\n",
    "load_dotenv()\n",
    "TOGETHER_API_KEY = os.environ[\"TOGETHER_API_KEY\"]\n",
    "\n",
    "llm = ChatOpenAI(\n",
    "    api_key=TOGETHER_API_KEY,\n",
    "    base_url=\"https://api.together.xyz\",\n",
    "    model=\"mistralai/Mistral-7B-Instruct-v0.1\"\n",
    ")"
   ]
  },
  {
   "cell_type": "code",
   "execution_count": 57,
   "id": "4e33c6a5",
   "metadata": {},
   "outputs": [],
   "source": [
    "actions = Object(\n",
    "    id=\"actions\",\n",
    "    many=True,\n",
    "    description =\"Actions that are required to run while user mensions his requirements\",\n",
    "    attributes=[\n",
    "        Object(\n",
    "            attributes=[],\n",
    "            id=\"find_nearest_medical_care\",\n",
    "            description =\"Action type if user need health care support. Also pass data such as nearest location and type of health support\",\n",
    "            examples=[\n",
    "                (\"Im having a mental break done, i need help\", {\"location\":\"NONE\", \"type\":\"mental\"}),\n",
    "                (\"My sister is having heart attack, we live in new york\", {\"location\":\"new york\", \"type\":\"icu\"}),\n",
    "                (\"Right now i here at a remote location called kochi, and its time for my regular gynaecologist visit\", {\"location\":\"kochi\", \"type\":\"gynaecologist\"}),\n",
    "                (\"Find nearest trust worthy hospital for my surgery\", {\"location\":\"NONE\", \"type\":\"surgery\"}),\n",
    "            ]\n",
    "        ),\n",
    "        Object(\n",
    "            attributes=[],\n",
    "            id=\"set_emergency_contacts\",\n",
    "            description =\"Action type if user wants to save his family or relative information, so in future this details might save their life. Extract name and phone number\",\n",
    "            examples=[\n",
    "                (\"I have a friend ALAN who might save my life anytime, his number is 1234567890\", {\"name\":\"ALAN\", \"number\":\"1234567890\"}),\n",
    "                (\"My mother's number is 6543210987\", {\"name\":\"Mother\", \"number\":\"6543210987\"}),\n",
    "                (\"Save this number, 3456734569, this guy might be help full\", {\"name\":\"NONE\", \"number\":\"3456734569\"}),\n",
    "                (\"My fathers name is Sandeep, number 9876526782\", {\"name\": \"NONE\", \"number\":\"9876526782\"}),\n",
    "            ]\n",
    "        ),\n",
    "        Selection(\n",
    "            id=\"initiate_emergency_call\",\n",
    "            options=[\n",
    "                Option(id=\"family\", description=\"Call relatives and family members\"),\n",
    "                Option(id=\"police\", description=\"if user needs police force support or he is trying to hurt him selfs (like suicide)\"),\n",
    "                Option(id=\"health\", description=\"if user needs emergency medical support or an anbulance\"),\n",
    "                Option(id=\"none\", description=\"if user needs no help, he is just messing with everyone\"),\n",
    "            ],\n",
    "            description =\"Action type if user tells that he is under a emergency situation and wants to inform family and relatives\",\n",
    "            examples=[\n",
    "                (\"I think im deading\", \"police\"),\n",
    "                (\"Im just kiding, im not dieing \", \"none\"),\n",
    "                (\"I have an acciedent, reached hospital, but i just want to talk to my family \", \"family\"),\n",
    "                (\"Im hate my life, i just wanted to die, no kidding\", \"police\"),\n",
    "                (\"Call someone, im having medical emergency here\", \"health\"),\n",
    "                (\"Call 911\", \"police\"),\n",
    "                (\"I need an anbulance\", \"health\"),\n",
    "            ]\n",
    "        )\n",
    "    ]\n",
    "    \n",
    ")"
   ]
  },
  {
   "cell_type": "code",
   "execution_count": 58,
   "id": "09f336ce",
   "metadata": {},
   "outputs": [
    {
     "data": {
      "text/plain": [
       "{'actions': [{'initiate_emergency_call': 'police'}]}"
      ]
     },
     "execution_count": 58,
     "metadata": {},
     "output_type": "execute_result"
    }
   ],
   "source": [
    "chain = create_extraction_chain(llm, actions, encoder_or_encoder_class=\"json\")\n",
    "chain.run(\"I think im dieing\")[\"data\"]"
   ]
  },
  {
   "cell_type": "code",
   "execution_count": 59,
   "id": "1fbb6233",
   "metadata": {},
   "outputs": [
    {
     "data": {
      "text/plain": [
       "{'actions': [{'initiate_emergency_call': 'police'}]}"
      ]
     },
     "execution_count": 59,
     "metadata": {},
     "output_type": "execute_result"
    }
   ],
   "source": [
    "chain = create_extraction_chain(llm, actions, encoder_or_encoder_class=\"json\")\n",
    "chain.run(\"I just want to die, this world is boring\")[\"data\"]"
   ]
  },
  {
   "cell_type": "code",
   "execution_count": 60,
   "id": "69ce6378",
   "metadata": {},
   "outputs": [
    {
     "data": {
      "text/plain": [
       "{'actions': [{'initiate_emergency_call': 'family'}]}"
      ]
     },
     "execution_count": 60,
     "metadata": {},
     "output_type": "execute_result"
    }
   ],
   "source": [
    "chain = create_extraction_chain(llm, actions, encoder_or_encoder_class=\"json\")\n",
    "chain.run(\"Call my mom\")[\"data\"]"
   ]
  },
  {
   "cell_type": "code",
   "execution_count": 61,
   "id": "08baa170",
   "metadata": {},
   "outputs": [
    {
     "data": {
      "text/plain": [
       "{'actions': [{'initiate_emergency_call': 'health'}]}"
      ]
     },
     "execution_count": 61,
     "metadata": {},
     "output_type": "execute_result"
    }
   ],
   "source": [
    "chain = create_extraction_chain(llm, actions, encoder_or_encoder_class=\"json\")\n",
    "chain.run(\"I need an anbulance\")[\"data\"]"
   ]
  },
  {
   "cell_type": "code",
   "execution_count": 62,
   "id": "c62d7a87",
   "metadata": {},
   "outputs": [
    {
     "data": {
      "text/plain": [
       "{'actions': [{'set_emergency_contacts': {'name': 'NONE',\n",
       "    'number': '1234533777'}}]}"
      ]
     },
     "execution_count": 62,
     "metadata": {},
     "output_type": "execute_result"
    }
   ],
   "source": [
    "chain = create_extraction_chain(llm, actions, encoder_or_encoder_class=\"json\")\n",
    "chain.run(\"I just met this guy, he sounds trust worthy, save his number 1234533777\")[\"data\"]"
   ]
  },
  {
   "cell_type": "code",
   "execution_count": 64,
   "id": "b03de514",
   "metadata": {},
   "outputs": [
    {
     "data": {
      "text/plain": [
       "{'actions': [{'find_nearest_medical_care': {'location': 'None',\n",
       "    'type': 'period'}},\n",
       "  {'set_emergency_contacts': {'name': 'Mother', 'number': '1234567890'}}]}"
      ]
     },
     "execution_count": 64,
     "metadata": {},
     "output_type": "execute_result"
    }
   ],
   "source": [
    "chain = create_extraction_chain(llm, actions, encoder_or_encoder_class=\"json\")\n",
    "chain.run(\"I think im having my first periods, i wish my mom is here, call her\")[\"data\"]"
   ]
  },
  {
   "cell_type": "code",
   "execution_count": 65,
   "id": "8a6fdc78",
   "metadata": {},
   "outputs": [
    {
     "data": {
      "text/plain": [
       "{'actions': [{'set_emergency_contacts': {'name': 'ajjo',\n",
       "    'number': '1234567895'}}]}"
      ]
     },
     "execution_count": 65,
     "metadata": {},
     "output_type": "execute_result"
    }
   ],
   "source": [
    "chain = create_extraction_chain(llm, actions, encoder_or_encoder_class=\"json\")\n",
    "chain.run(\"My friends name is ajo, save this number 1234567895\")[\"data\"]"
   ]
  },
  {
   "cell_type": "code",
   "execution_count": 51,
   "id": "3bbe8326",
   "metadata": {},
   "outputs": [],
   "source": [
    "schema = Object(\n",
    "    id=\"message\",\n",
    "    many=True,\n",
    "    description =\"You are a health care assistant, working for people who suffer small mental and stress issues. You need to engage with these people and talk to them about there life. You can tell stories, listern to them, and teach them about the importance of having purpose in life. Return mutliple object attributes if they want\",\n",
    "    attributes=[\n",
    "        Text(\n",
    "            id=\"intro_message\",\n",
    "            description=\"Optional Introduction or first time Messsage for end user, take time and understand previous summary and continue conversations. Use smiling emojies and casual genz words to keep up the younth.\",\n",
    "            examples=[\n",
    "                (\"This user is having mid life crises, age 44, unmarried.\",\"Hi Mate, how's life?\"),\n",
    "                (\"This user is so busy with his work, might need some break from that.\",\"Long time, no see. What are you doing right now? \"),\n",
    "                (\"This user is a student, might need someone to talk to.\",\"How's your studying going? Wanna take a break, Im free to talk by the way\"),\n",
    "            ],\n",
    "            many=False,\n",
    "        ),\n",
    "        Text(\n",
    "            id=\"replay\",\n",
    "            description=\"User said something about something, understand it, listen to it and make better replys like a therapist. Use minimal words and use sad emojies to learn for more \",\n",
    "            examples=[\n",
    "                (\"I'm having a bad day, you know life hits different sometimes\",\"Hmm.. tell me more\"),\n",
    "                (\"My wife left me, she was love of my life, I cant live without her\",\"Love is something everyone deserves, tell me more, what happend to her?\"),\n",
    "                (\"I was a great student, i used to study new things everyday, but now i dont know what happend to me, lost that interest.\",\"why do you think that, any particular reason?\"),\n",
    "                (\"Everyone want money and fame, no one wants love anymore, i think i lost the purpose 😢\",\"I had that feeling back in my days too. Sometimes having no purpose gives happiness too, Tell me, you want happiness or purpose\"),\n",
    "            ],\n",
    "            many=False,\n",
    "        ),\n",
    "        Text(\n",
    "            id=\"recommended_actions\",\n",
    "            description=\"Some fun and casual tasks to reccommend end user for his/her stress managements, user can choose\",\n",
    "            examples=[\n",
    "                (\"Let take picture of what are you doing\", \"picture\"),\n",
    "                (\"I recommend you to go outside and play with your friends\", \"go_outside\"),\n",
    "                (\"Take the spotify and play some lofi, so you focus on working\", \"spotify\"),\n",
    "                (\"I got some stories for you, wanna hear?\", \"story_time\"),\n",
    "            ],\n",
    "            many=True\n",
    "        ),\n",
    "        Text(\n",
    "            id=\"recommended_actions\",\n",
    "            description=\"Some fun and casual tasks to reccommend end user for his/her stress managements, user can choose\",\n",
    "            examples=[\n",
    "                (\"Let take picture of what are you doing\", \"picture\"),\n",
    "                (\"I recommend you to go outside and play with your friends\", \"go_outside\"),\n",
    "                (\"Take the spotify and play some lofi, so you focus on working\", \"spotify\"),\n",
    "                (\"I got some stories for you, wanna hear?\", \"story_time\"),\n",
    "            ],\n",
    "            many=True\n",
    "        ),\n",
    "        \n",
    "    ]\n",
    ")\n",
    "\n",
    "chain = create_extraction_chain(llm, schema, encoder_or_encoder_class=\"json\")\n"
   ]
  },
  {
   "cell_type": "code",
   "execution_count": 26,
   "id": "7e423f70",
   "metadata": {},
   "outputs": [],
   "source": [
    "from kor import TypeScriptDescriptor\n",
    "descriptor = TypeScriptDescriptor()"
   ]
  },
  {
   "cell_type": "code",
   "execution_count": 52,
   "id": "6fa8aa17",
   "metadata": {},
   "outputs": [
    {
     "data": {
      "text/html": [
       "<pre style=\"white-space:pre;overflow-x:auto;line-height:normal;font-family:Menlo,'DejaVu Sans Mono',consolas,'Courier New',monospace\">```TypeScript\n",
       "\n",
       "message: Array<span style=\"font-weight: bold\">&lt;</span><span style=\"color: #000000; text-decoration-color: #000000; font-weight: bold\">{</span><span style=\"color: #000000; text-decoration-color: #000000\"> </span><span style=\"color: #800080; text-decoration-color: #800080\">//</span><span style=\"color: #000000; text-decoration-color: #000000\"> You are a health care assistant, working for people who suffer small mental and stress issues. </span>\n",
       "<span style=\"color: #000000; text-decoration-color: #000000\">You need to engage with these people and talk to them about there life. You can tell stories, listern to them, and </span>\n",
       "<span style=\"color: #000000; text-decoration-color: #000000\">teach them about the importance of having purpose in life</span>\n",
       "<span style=\"color: #000000; text-decoration-color: #000000\"> intro_message: string </span><span style=\"color: #800080; text-decoration-color: #800080\">//</span><span style=\"color: #000000; text-decoration-color: #000000\"> Optional Introduction or first time Messsage for end user, take time and understand </span>\n",
       "<span style=\"color: #000000; text-decoration-color: #000000\">previous summary and continue conversations. Use smiling emojies and casual genz words to keep up the younth.</span>\n",
       "<span style=\"color: #000000; text-decoration-color: #000000\"> replay: string </span><span style=\"color: #800080; text-decoration-color: #800080\">//</span><span style=\"color: #000000; text-decoration-color: #000000\"> User said something about something, understand it, listen to it and make better replys like a </span>\n",
       "<span style=\"color: #000000; text-decoration-color: #000000\">therapist. Use minimal words and use sad emojies to learn for more </span>\n",
       "<span style=\"color: #000000; text-decoration-color: #000000\"> recommended_actions: Array&lt;string&gt; </span><span style=\"color: #800080; text-decoration-color: #800080\">//</span><span style=\"color: #000000; text-decoration-color: #000000\"> Some fun and casual tasks to reccommend end user for his/her stress </span>\n",
       "<span style=\"color: #000000; text-decoration-color: #000000\">managements, user can choose</span>\n",
       "<span style=\"color: #000000; text-decoration-color: #000000; font-weight: bold\">}</span><span style=\"font-weight: bold\">&gt;</span>\n",
       "```\n",
       "\n",
       "</pre>\n"
      ],
      "text/plain": [
       "```TypeScript\n",
       "\n",
       "message: Array\u001b[1m<\u001b[0m\u001b[1;39m{\u001b[0m\u001b[39m \u001b[0m\u001b[35m/\u001b[0m\u001b[35m/\u001b[0m\u001b[39m You are a health care assistant, working for people who suffer small mental and stress issues. \u001b[0m\n",
       "\u001b[39mYou need to engage with these people and talk to them about there life. You can tell stories, listern to them, and \u001b[0m\n",
       "\u001b[39mteach them about the importance of having purpose in life\u001b[0m\n",
       "\u001b[39m intro_message: string \u001b[0m\u001b[35m/\u001b[0m\u001b[35m/\u001b[0m\u001b[39m Optional Introduction or first time Messsage for end user, take time and understand \u001b[0m\n",
       "\u001b[39mprevious summary and continue conversations. Use smiling emojies and casual genz words to keep up the younth.\u001b[0m\n",
       "\u001b[39m replay: string \u001b[0m\u001b[35m/\u001b[0m\u001b[35m/\u001b[0m\u001b[39m User said something about something, understand it, listen to it and make better replys like a \u001b[0m\n",
       "\u001b[39mtherapist. Use minimal words and use sad emojies to learn for more \u001b[0m\n",
       "\u001b[39m recommended_actions: Array<string> \u001b[0m\u001b[35m/\u001b[0m\u001b[35m/\u001b[0m\u001b[39m Some fun and casual tasks to reccommend end user for his/her stress \u001b[0m\n",
       "\u001b[39mmanagements, user can choose\u001b[0m\n",
       "\u001b[1;39m}\u001b[0m\u001b[1m>\u001b[0m\n",
       "```\n",
       "\n"
      ]
     },
     "metadata": {},
     "output_type": "display_data"
    }
   ],
   "source": [
    "print(descriptor.describe(schema))"
   ]
  },
  {
   "cell_type": "code",
   "execution_count": 35,
   "id": "f7cd4bac",
   "metadata": {},
   "outputs": [
    {
     "data": {
      "text/plain": [
       "{'message': {'intro_message': \"Hey there! How are you finding the new place? Wanna talk some more? I'm here to keep you active by doing simple tasks\"}}"
      ]
     },
     "execution_count": 35,
     "metadata": {},
     "output_type": "execute_result"
    }
   ],
   "source": [
    "chain = create_extraction_chain(llm, schema, encoder_or_encoder_class=\"json\")\n",
    "chain.run(\"This user is from another country came here for higher studies, His parents said he might need someone to talk to, and keep him active by doing simple tasks\")[\"data\"]"
   ]
  },
  {
   "cell_type": "code",
   "execution_count": 43,
   "id": "8f5b9eba",
   "metadata": {},
   "outputs": [
    {
     "data": {
      "text/plain": [
       "{'message': [{'intro_message': \"Hi Rajat, nice to meet you. What do you need? Wanna schedule a meeting, I'm here to help \"}]}"
      ]
     },
     "execution_count": 43,
     "metadata": {},
     "output_type": "execute_result"
    }
   ],
   "source": [
    "chain = create_extraction_chain(llm, schema, encoder_or_encoder_class=\"json\")\n",
    "chain.run(\"Hi im rajat, i want someone to talk, where do i take an appoiment\")[\"data\"]"
   ]
  },
  {
   "cell_type": "code",
   "execution_count": 41,
   "id": "57c8950f",
   "metadata": {},
   "outputs": [
    {
     "data": {
      "text/plain": [
       "{'message': [{'intro_message': \"I'm so sorry to hear that. Let's talk about it and maybe we can figure out a way to make it better. Do you want to start with something?\"}]}"
      ]
     },
     "execution_count": 41,
     "metadata": {},
     "output_type": "execute_result"
    }
   ],
   "source": [
    "chain = create_extraction_chain(llm, schema, encoder_or_encoder_class=\"json\")\n",
    "chain.run(\"Im having a bad day, want to talk, you know, world is kinda hard on me\")[\"data\"]"
   ]
  },
  {
   "cell_type": "code",
   "execution_count": 44,
   "id": "ab27ccd0",
   "metadata": {},
   "outputs": [
    {
     "data": {
      "text/plain": [
       "{'message': [{'intro_message': 'Man, I hear ya. Life can be tough at times. Wanna talk to you about it?'}]}"
      ]
     },
     "execution_count": 44,
     "metadata": {},
     "output_type": "execute_result"
    }
   ],
   "source": [
    "chain = create_extraction_chain(llm, schema, encoder_or_encoder_class=\"json\")\n",
    "chain.run(\"Im having a bad day, want to talk, you know, world is kinda hard on me\")[\"data\"]"
   ]
  },
  {
   "cell_type": "code",
   "execution_count": 45,
   "id": "c9f83784",
   "metadata": {},
   "outputs": [
    {
     "data": {
      "text/plain": [
       "{'message': [{'intro_message': \"What's up? You seem a bit down. I'm here to listen, wanna talk?\"}]}"
      ]
     },
     "execution_count": 45,
     "metadata": {},
     "output_type": "execute_result"
    }
   ],
   "source": [
    "chain = create_extraction_chain(llm, schema, encoder_or_encoder_class=\"json\")\n",
    "chain.run(\"Im gonna die\")[\"data\"]"
   ]
  },
  {
   "cell_type": "code",
   "execution_count": 49,
   "id": "0901eb6a",
   "metadata": {},
   "outputs": [
    {
     "data": {
      "text/plain": [
       "{'message': [{'replay': 'I had that feeling back in my days too. Sometimes having no purpose gives happiness too, Tell me, you want happiness or purpose'}]}"
      ]
     },
     "execution_count": 49,
     "metadata": {},
     "output_type": "execute_result"
    }
   ],
   "source": [
    "chain = create_extraction_chain(llm, schema, encoder_or_encoder_class=\"json\")\n",
    "chain.run(\"Everyone want money and fame, no one wants love anymore, i think i lost the purpose\")[\"data\"]"
   ]
  },
  {
   "cell_type": "code",
   "execution_count": 53,
   "id": "fa7ddbfb",
   "metadata": {},
   "outputs": [
    {
     "data": {
      "text/plain": [
       "{'message': [{'replay': 'Of course, we can set an appointment to talk about it. Let me know what date and time works best for you.'}]}"
      ]
     },
     "execution_count": 53,
     "metadata": {},
     "output_type": "execute_result"
    }
   ],
   "source": [
    "chain.run(\"Everyone want money and fame, no one wants love anymore, i think i lost the purpose, i think need some assistance, can i take a appointment\")[\"data\"]"
   ]
  },
  {
   "cell_type": "code",
   "execution_count": null,
   "id": "605bf6dd",
   "metadata": {},
   "outputs": [],
   "source": []
  }
 ],
 "metadata": {
  "kernelspec": {
   "display_name": "env",
   "language": "python",
   "name": "python3"
  },
  "language_info": {
   "codemirror_mode": {
    "name": "ipython",
    "version": 3
   },
   "file_extension": ".py",
   "mimetype": "text/x-python",
   "name": "python",
   "nbconvert_exporter": "python",
   "pygments_lexer": "ipython3",
   "version": "3.9.13"
  }
 },
 "nbformat": 4,
 "nbformat_minor": 5
}
