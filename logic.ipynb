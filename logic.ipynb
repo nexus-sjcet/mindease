{
 "cells": [
  {
   "cell_type": "code",
   "execution_count": 1,
   "metadata": {},
   "outputs": [],
   "source": [
    "# from langchain.chat_models import ChatOpenAI\n",
    "from langchain_openai import ChatOpenAI\n",
    "from kor import create_extraction_chain, Object, Text, Option, Selection"
   ]
  },
  {
   "cell_type": "code",
   "execution_count": 2,
   "metadata": {},
   "outputs": [],
   "source": [
    "from dotenv import load_dotenv\n",
    "import os\n",
    "\n",
    "load_dotenv()\n",
    "TOGETHER_API_KEY = os.environ[\"TOGETHER_API_KEY\"]\n",
    "\n",
    "llm = ChatOpenAI(\n",
    "    api_key=TOGETHER_API_KEY,\n",
    "    base_url=\"https://api.together.xyz\",\n",
    "    model=\"mistralai/Mistral-7B-Instruct-v0.1\"\n",
    ")"
   ]
  },
  {
   "cell_type": "code",
   "execution_count": 11,
   "metadata": {},
   "outputs": [],
   "source": [
    "actions = Object(\n",
    "    id=\"actions\",\n",
    "    many=True,\n",
    "    description =\"Actions that are required to run while user mensions his requirements\",\n",
    "    attributes=[\n",
    "        Object(\n",
    "            attributes=[],\n",
    "            id=\"find_nearest_medical_care\",\n",
    "            description =\"Action type if user need health care support. Also pass data such as nearest location and type of health support\",\n",
    "            examples=[\n",
    "                (\"Im having a mental break done, i need help\", {\"location\":\"NONE\", \"type\":\"mental\"}),\n",
    "                (\"My sister is having heart attack, we live in new york\", {\"location\":\"new york\", \"type\":\"icu\"}),\n",
    "                (\"Right now i here at a remote location called kochi, and its time for my regular gynaecologist visit\", {\"location\":\"kochi\", \"type\":\"gynaecologist\"}),\n",
    "                (\"Find nearest trust worthy hospital for my surgery\", {\"location\":\"NONE\", \"type\":\"surgery\"}),\n",
    "            ]\n",
    "        ),\n",
    "        Object(\n",
    "            attributes=[],\n",
    "            id=\"set_emergency_contacts\",\n",
    "            description =\"Action type if user wants to save his family or relative information, so in future this details might save their life. Extract name and phone number\",\n",
    "            examples=[\n",
    "                (\"I have a friend ALAN who might save my life anytime, his number is 1234567890\", {\"name\":\"ALAN\", \"number\":\"1234567890\"}),\n",
    "                (\"My mother's number is 6543210987\", {\"name\":\"Mother\", \"number\":\"6543210987\"}),\n",
    "                (\"Save this number, 3456734569, this guy might be help full\", {\"name\":\"NONE\", \"number\":\"3456734569\"}),\n",
    "                (\"My fathers name is Sandeep, number 9876526782\", {\"name\": \"NONE\", \"number\":\"9876526782\"}),\n",
    "            ]\n",
    "        ),\n",
    "        Selection(\n",
    "            id=\"initiate_emergency_call\",\n",
    "            options=[\n",
    "                Option(id=\"family\", description=\"Call relatives and family members such as mom, dad, brother etc (no needed to be an emergency situation)\"),\n",
    "                Option(id=\"police\", description=\"if user needs police force support or he is trying to hurt him selfs (like suicide)\"),\n",
    "                Option(id=\"health\", description=\"if user needs emergency medical support or an anbulance\"),\n",
    "                Option(id=\"none\", description=\"if user needs no help, he is just messing with everyone\"),\n",
    "            ],\n",
    "            description =\"Action type if user tells that he is under a emergency situation and wants to inform family and relatives\",\n",
    "            examples=[\n",
    "                (\"I think im deading\", \"police\"),\n",
    "                (\"Im just kiding, im not dieing \", \"none\"),\n",
    "                (\"I have an acciedent, reached hospital, but i just want to talk to my family \", \"family\"),\n",
    "                (\"Im hate my life, i just wanted to die, no kidding\", \"police\"),\n",
    "                (\"Call someone, im having medical emergency here\", \"health\"),\n",
    "                (\"Call 911\", \"police\"),\n",
    "                (\"I need an anbulance\", \"health\"),\n",
    "            ]\n",
    "        )\n",
    "    ]\n",
    "    \n",
    ")"
   ]
  },
  {
   "cell_type": "code",
   "execution_count": 19,
   "metadata": {},
   "outputs": [],
   "source": [
    "schema = Object(\n",
    "    id=\"message\",\n",
    "    description =\"You are a health care assistant, working for people who suffer small mental and stress issues. You need to engage with these people and talk to them about there life. You can tell stories, listern to them, and teach them about the importance of having purpose in life. Return mutliple object attributes if they want\",\n",
    "    attributes=[\n",
    "        actions,\n",
    "        Text(\n",
    "            id=\"intro_message\",\n",
    "            description=\"Optional Introduction or first time Messsage for end user, take time and understand previous summary and continue conversations. Use smiling emojies and casual genz words to keep up the younth.\",\n",
    "            examples=[\n",
    "                (\"This user is having mid life crises, age 44, unmarried.\",\"Hi Mate, how's life?\"),\n",
    "                (\"This user is so busy with his work, might need some break from that.\",\"Long time, no see. What are you doing right now? \"),\n",
    "                (\"This user is a student, might need someone to talk to.\",\"How's your studying going? Wanna take a break, Im free to talk by the way\"),\n",
    "            ],\n",
    "            many=False,\n",
    "        ),\n",
    "        Text(\n",
    "            id=\"replay\",\n",
    "            description=\"User said something about something, understand it, listen to it and make better replys like a therapist. Use minimal words and use sad emojies to learn for more \",\n",
    "            examples=[\n",
    "                (\"I'm having a bad day, you know life hits different sometimes\",\"Hmm.. tell me more\"),\n",
    "                (\"My wife left me, she was love of my life, I cant live without her\",\"Love is something everyone deserves, tell me more, what happend to her?\"),\n",
    "                (\"I was a great student, i used to study new things everyday, but now i dont know what happend to me, lost that interest.\",\"why do you think that, any particular reason?\"),\n",
    "                (\"Everyone want money and fame, no one wants love anymore, i think i lost the purpose 😢\",\"I had that feeling back in my days too. Sometimes having no purpose gives happiness too, Tell me, you want happiness or purpose\"),\n",
    "            ],\n",
    "            many=False,\n",
    "        ),\n",
    "        Text(\n",
    "            id=\"recommended_actions\",\n",
    "            description=\"Some fun and casual tasks to reccommend end user for his/her stress managements, user can choose\",\n",
    "            examples=[\n",
    "                (\"Let take picture of what are you doing\", \"picture\"),\n",
    "                (\"I recommend you to go outside and play with your friends\", \"go_outside\"),\n",
    "                (\"Take the spotify and play some lofi, so you focus on working\", \"spotify\"),\n",
    "                (\"I got some stories for you, wanna hear?\", \"story_time\"),\n",
    "            ],\n",
    "            many=True\n",
    "        )\n",
    "        \n",
    "    ]\n",
    ")\n"
   ]
  },
  {
   "cell_type": "code",
   "execution_count": 25,
   "metadata": {},
   "outputs": [],
   "source": [
    "chain = create_extraction_chain(llm, schema, encoder_or_encoder_class=\"json\")\n",
    "message = chain.run(\"I miss my mom, i should call her, it an emergcency\")[\"data\"]"
   ]
  },
  {
   "cell_type": "code",
   "execution_count": null,
   "metadata": {},
   "outputs": [],
   "source": [
    "def find_nearest_medical_care(data):\n",
    "    return '''Nearest {{data.type}} Hospital is {{data.location}}'''\n",
    "\n",
    "def set_emergency_contacts(data):\n",
    "    db = {\"name\":data.name, \"number\":data.number}\n",
    "    return \"Done adding contact\"\n",
    "\n",
    "def initiate_emergency_call(data):\n",
    "    db = {\"name\":data.name, \"number\":data.number}\n",
    "    return \"Initiated call to {{data.name}}\"\n",
    "\n",
    "def picture(data): \n",
    "    pass\n",
    "def go_outside(data): \n",
    "    pass\n",
    "def spotify(data): \n",
    "    pass\n",
    "def story_time(data): \n",
    "    pass\n"
   ]
  },
  {
   "cell_type": "code",
   "execution_count": null,
   "metadata": {},
   "outputs": [],
   "source": [
    "actionsConfig = {\n",
    "    \"find_nearest_medical_care\": lambda data: find_nearest_medical_care(data),\n",
    "    \"set_emergency_contacts\": lambda data: set_emergency_contacts(data),\n",
    "    \"initiate_emergency_call\": lambda data: initiate_emergency_call(data),   \n",
    "}\n",
    "\n",
    "recommenedAcriontionsConfig = {\n",
    "    \"picture\": lambda data: picture(data),\n",
    "    \"go_outside\": lambda data: go_outside(data),\n",
    "    \"spotify\": lambda data: spotify(data),   \n",
    "    \"story_time\": lambda data: story_time(data),   \n",
    "}"
   ]
  },
  {
   "cell_type": "code",
   "execution_count": 7,
   "metadata": {},
   "outputs": [
    {
     "ename": "IndentationError",
     "evalue": "expected an indented block (402603233.py, line 1)",
     "output_type": "error",
     "traceback": [
      "\u001b[1;36m  Cell \u001b[1;32mIn[7], line 1\u001b[1;36m\u001b[0m\n\u001b[1;33m    def getPriority():\u001b[0m\n\u001b[1;37m                      ^\u001b[0m\n\u001b[1;31mIndentationError\u001b[0m\u001b[1;31m:\u001b[0m expected an indented block\n"
     ]
    }
   ],
   "source": [
    "def getPriority(message:dict):\n",
    "    if message[\"action\"]:\n",
    "        for x in message[\"action\"]:\n",
    "            actionsConfig[x]\n",
    "        \n",
    "    if message[\"recommended_actions\"]:\n",
    "        for x in message[\"action\"]:\n",
    "            recommenedAcriontionsConfig[x]\n",
    "        \n",
    "    \n",
    "    "
   ]
  },
  {
   "cell_type": "code",
   "execution_count": 26,
   "metadata": {},
   "outputs": [
    {
     "data": {
      "text/plain": [
       "{'message': {'actions': [{'initiate_emergency_call': 'family'}]}}"
      ]
     },
     "execution_count": 26,
     "metadata": {},
     "output_type": "execute_result"
    }
   ],
   "source": [
    "message"
   ]
  },
  {
   "cell_type": "code",
   "execution_count": null,
   "metadata": {},
   "outputs": [],
   "source": []
  }
 ],
 "metadata": {
  "kernelspec": {
   "display_name": "env",
   "language": "python",
   "name": "python3"
  },
  "language_info": {
   "codemirror_mode": {
    "name": "ipython",
    "version": 3
   },
   "file_extension": ".py",
   "mimetype": "text/x-python",
   "name": "python",
   "nbconvert_exporter": "python",
   "pygments_lexer": "ipython3",
   "version": "3.9.13"
  }
 },
 "nbformat": 4,
 "nbformat_minor": 2
}
